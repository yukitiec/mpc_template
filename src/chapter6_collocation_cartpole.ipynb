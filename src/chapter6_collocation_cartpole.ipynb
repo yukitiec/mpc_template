{
 "cells": [
  {
   "cell_type": "code",
   "execution_count": 1,
   "metadata": {},
   "outputs": [],
   "source": [
    "from IPython.display import clear_output\n",
    "import os\n",
    "\n",
    "import numpy as np\n",
    "import casadi\n",
    "import time\n",
    "import matplotlib.pyplot as plt\n",
    "import matplotlib.patches as patches\n",
    "from matplotlib.animation import FuncAnimation\n",
    "\n",
    "os.makedirs('images',exist_ok=True)\n",
    "if os.name == 'nt':\n",
    "    plt.rcParams['font.family'] = 'MS Gothic'\n",
    "elif os.name == 'posix':\n",
    "    !pip install japanize-matplotlib\n",
    "\n",
    "clear_output()"
   ]
  },
  {
   "cell_type": "code",
   "execution_count": null,
   "metadata": {},
   "outputs": [],
   "source": [
    "g = 9.81  # 重力加速度\n",
    "M = 1  # 台車の質量\n",
    "m = 0.2  # 振子の質量\n",
    "l = 1  # 振子の長さ\n",
    "\n",
    "nu = 1  # 制御変数の次元\n",
    "nx = 4  # 状態変数の次元\n",
    "\n",
    "# コスト関数の重み\n",
    "Q = casadi.diag([2.5, 10, 0.01, 0.01])\n",
    "Q_f = casadi.diag([2.5, 10, 0.01, 0.01])\n",
    "R = casadi.diag([0.1])\n",
    "\n",
    "# 予測ホライズン等\n",
    "T = 1\n",
    "K = 20\n",
    "dt = T / K\n",
    "\n",
    "# 制約条件\n",
    "x_lb = [-np.inf, -np.inf, -np.inf, -np.inf]\n",
    "x_ub = [np.inf, np.inf, np.inf, np.inf]\n",
    "u_lb = [-15]\n",
    "u_ub = [15]\n",
    "\n",
    "total = nx * (K + 1) + nu * K"
   ]
  },
  {
   "cell_type": "code",
   "execution_count": null,
   "metadata": {},
   "outputs": [],
   "source": [
    "def make_f():\n",
    "    states = casadi.SX.sym(\"states\", nx)\n",
    "    ctrls = casadi.SX.sym(\"ctrls\", nu)\n",
    "\n",
    "    x = states[0]\n",
    "    theta = states[1]\n",
    "    x_dot = states[2]\n",
    "    theta_dot = states[3]\n",
    "    F = ctrls[0]\n",
    "\n",
    "    sin = casadi.sin(theta)\n",
    "    cos = casadi.cos(theta)\n",
    "    det = M + m * sin**2\n",
    "\n",
    "    x_ddot = (-m * l * sin * theta_dot**2 + m * g * sin * cos + F) / det\n",
    "    theta_ddot = (-m * l * sin * cos * theta_dot**2 + (M + m) * g * sin + F * cos) / (\n",
    "        l * det\n",
    "    )\n",
    "\n",
    "    states_dot = casadi.vertcat(x_dot, theta_dot, x_ddot, theta_ddot)\n",
    "\n",
    "    f = casadi.Function(\"f\", [states, ctrls], [states_dot], [\"x\", \"u\"], [\"x_dot\"])\n",
    "    return f\n",
    "\n",
    "\n",
    "def make_ModifiedEuler():\n",
    "    states = casadi.SX.sym(\"states\", nx)\n",
    "    ctrls = casadi.SX.sym(\"ctrls\", nu)\n",
    "\n",
    "    f = make_f()\n",
    "\n",
    "    r1 = f(x=states, u=ctrls)[\"x_dot\"]\n",
    "    r2 = f(x=states + dt * r1, u=ctrls)[\"x_dot\"]\n",
    "    states_next = states + dt * (r1 + r2) / 2\n",
    "    ModifiedEuler = casadi.Function(\n",
    "        \"ModifiedEuler\", [states, ctrls], [states_next], [\"x\", \"u\"], [\"x_next\"]\n",
    "    )\n",
    "    return ModifiedEuler\n",
    "\n",
    "\n",
    "def make_integrator():\n",
    "    states = casadi.SX.sym(\"states\", nx)\n",
    "    ctrls = casadi.SX.sym(\"ctrls\", nu)\n",
    "\n",
    "    f = make_f()\n",
    "    ode = f(x=states, u=ctrls)[\"x_dot\"]\n",
    "\n",
    "    dae = {\"x\": states, \"p\": ctrls, \"ode\": ode}\n",
    "\n",
    "    I = casadi.integrator(\"I\", \"cvodes\", dae, 0, dt)\n",
    "    return I\n",
    "\n",
    "\n",
    "def compute_stage_cost(x, u):\n",
    "    cost = (casadi.dot(Q @ x, x) + casadi.dot(R @ u, u)) / 2\n",
    "    return cost\n",
    "\n",
    "\n",
    "def compute_terminal_cost(x):\n",
    "    cost = casadi.dot(Q_f @ x, x) / 2\n",
    "    return cost"
   ]
  },
  {
   "cell_type": "code",
   "execution_count": null,
   "metadata": {},
   "outputs": [
    {
     "name": "stdout",
     "output_type": "stream",
     "text": [
      "b [0.5, 0.5]\n",
      "c [0.21132486540518713, 0.7886751345948129]\n",
      "D \n",
      "[[3, 0.464102], \n",
      " [-6.4641, 3]]\n",
      "beta [-1.73205, 1.73205]\n"
     ]
    }
   ],
   "source": [
    "nm = 2\n",
    "c = casadi.collocation_points(nm, \"legendre\")\n",
    "D_T, beta_, b = casadi.collocation_coeff(c)\n",
    "D = D_T.T[:, 1:]\n",
    "beta = beta_[1:]\n",
    "print(\"b\", b)\n",
    "print(\"c\", c)\n",
    "print(\"D\", D)\n",
    "print(\"beta\", beta)"
   ]
  },
  {
   "cell_type": "code",
   "execution_count": 5,
   "metadata": {},
   "outputs": [],
   "source": [
    "# nm = 2\n",
    "# c = casadi.collocation_points(nm, 'legendre')\n",
    "\n",
    "# A = np.zeros((nm,nm))\n",
    "# b = np.zeros(nm)\n",
    "# for j in range(nm):\n",
    "#     lj = 1\n",
    "#     for l in range(nm):\n",
    "#         if l != j:\n",
    "#             lj *= np.poly1d([1, -c[l]]) / (c[j]-c[l])\n",
    "#     lj_int = np.polyint(lj)\n",
    "#     b[j] = lj_int(1)-lj_int(0)\n",
    "#     for i in range(nm):\n",
    "#         A[i,j] = lj_int(c[i])-lj_int(0)\n",
    "# D = np.linalg.inv(A)\n",
    "# beta = D.T@b\n",
    "# print(\"A\",A)\n",
    "# print(\"b\",b)\n",
    "# print(\"c\",c)\n",
    "# print(\"D\",D)\n",
    "# print(\"beta\",beta)"
   ]
  },
  {
   "cell_type": "code",
   "execution_count": null,
   "metadata": {},
   "outputs": [],
   "source": [
    "def make_nlp_dc():  # direct collocation method.\n",
    "    f = make_f()\n",
    "\n",
    "    U = [casadi.SX.sym(f\"u_{k}\", nu) for k in range(K)]\n",
    "    X = [casadi.SX.sym(f\"x_{k}\", nx) for k in range(K + 1)]\n",
    "    Xc = []\n",
    "    for k in range(K):\n",
    "        for j in range(nm):\n",
    "            Xc.append(casadi.SX.sym(f\"x_{k}_{j}\", nx))\n",
    "\n",
    "    G = []\n",
    "    J = 0\n",
    "    for k in range(K):\n",
    "        Xk_end = 1 * X[k]  # scalar\n",
    "        for j in range(nm):\n",
    "            xp = 0\n",
    "            for r in range(nm):\n",
    "                xp = xp + D[j, r] * (Xc[k * nm + r] - X[k])  # (6.20)\n",
    "\n",
    "            fj = f(Xc[k * nm + j], U[k])\n",
    "            Xk_end = Xk_end + beta[j] * Xc[k * nm + j]  # (6.21) update function.\n",
    "            J = (\n",
    "                J + b[j] * compute_stage_cost(Xc[k * nm + j], U[k]) * dt\n",
    "            )  # calculate stage cost.\n",
    "            G.append(dt * fj - xp)  # should be 0. second line in (6.21)\n",
    "        G.append(Xk_end - X[k + 1])\n",
    "    J += compute_terminal_cost(X[-1])\n",
    "\n",
    "    option = {\"print_time\": False, \"ipopt\": {\"print_level\": 0}}\n",
    "    nlp = {\"x\": casadi.vertcat(*X, *Xc, *U), \"f\": J, \"g\": casadi.vertcat(*G)}\n",
    "    S = casadi.nlpsol(\"S\", \"ipopt\", nlp, option)\n",
    "    return S"
   ]
  },
  {
   "cell_type": "code",
   "execution_count": null,
   "metadata": {},
   "outputs": [],
   "source": [
    "def compute_optimal_control_dc(S_dc, x_init, x0_dc):\n",
    "    x_init = x_init.full().ravel().tolist()\n",
    "\n",
    "    lbx = x_init + x_lb * K * (1 + nm) + u_lb * K\n",
    "    ubx = x_init + x_ub * K * (1 + nm) + u_ub * K\n",
    "    lbg = [0] * nx * K * (1 + nm)\n",
    "    ubg = [0] * nx * K * (1 + nm)\n",
    "\n",
    "    res = S_dc(lbx=lbx, ubx=ubx, lbg=lbg, ubg=ubg, x0=x0_dc)\n",
    "\n",
    "    offset = nx + nx * K * (1 + nm)\n",
    "    x0_dc = res[\"x\"]\n",
    "    u_opt = x0_dc[offset : offset + nu]\n",
    "    return u_opt, x0_dc"
   ]
  },
  {
   "cell_type": "code",
   "execution_count": 7,
   "metadata": {},
   "outputs": [],
   "source": [
    "S_dc = make_nlp_dc()"
   ]
  },
  {
   "cell_type": "code",
   "execution_count": null,
   "metadata": {},
   "outputs": [],
   "source": [
    "def make_nlp():\n",
    "    F_ModifiedEuler = make_ModifiedEuler()\n",
    "\n",
    "    U = [casadi.SX.sym(f\"u_{k}\", nu) for k in range(K)]\n",
    "    X = [casadi.SX.sym(f\"x_{k}\", nx) for k in range(K + 1)]\n",
    "    G = []\n",
    "\n",
    "    J = 0\n",
    "\n",
    "    for k in range(K):\n",
    "        J += compute_stage_cost(X[k], U[k]) * dt\n",
    "        eq = X[k + 1] - F_ModifiedEuler(x=X[k], u=U[k])[\"x_next\"]\n",
    "        G.append(eq)\n",
    "    J += compute_terminal_cost(X[-1])\n",
    "\n",
    "    option = {\"print_time\": False, \"ipopt\": {\"print_level\": 0}}\n",
    "    nlp = {\"x\": casadi.vertcat(*X, *U), \"f\": J, \"g\": casadi.vertcat(*G)}\n",
    "    S = casadi.nlpsol(\"S\", \"ipopt\", nlp, option)\n",
    "    return S"
   ]
  },
  {
   "cell_type": "code",
   "execution_count": null,
   "metadata": {},
   "outputs": [],
   "source": [
    "def compute_optimal_control(S, x_init, x0):\n",
    "    x_init = x_init.full().ravel().tolist()\n",
    "\n",
    "    lbx = x_init + x_lb * K + u_lb * K\n",
    "    ubx = x_init + x_ub * K + u_ub * K\n",
    "    lbg = [0] * nx * K\n",
    "    ubg = [0] * nx * K\n",
    "\n",
    "    res = S(lbx=lbx, ubx=ubx, lbg=lbg, ubg=ubg, x0=x0)\n",
    "\n",
    "    offset = nx * (K + 1)\n",
    "    x0 = res[\"x\"]\n",
    "    u_opt = x0[offset : offset + nu]\n",
    "    return u_opt, x0"
   ]
  },
  {
   "cell_type": "code",
   "execution_count": 10,
   "metadata": {},
   "outputs": [],
   "source": [
    "S = make_nlp()"
   ]
  },
  {
   "cell_type": "code",
   "execution_count": null,
   "metadata": {},
   "outputs": [
    {
     "name": "stdout",
     "output_type": "stream",
     "text": [
      "\n",
      "******************************************************************************\n",
      "This program contains Ipopt, a library for large-scale nonlinear optimization.\n",
      " Ipopt is released as open source code under the Eclipse Public License (EPL).\n",
      "         For more information visit https://github.com/coin-or/Ipopt\n",
      "******************************************************************************\n",
      "\n"
     ]
    }
   ],
   "source": [
    "x_init = casadi.DM([0, np.pi, 0, 0])\n",
    "\n",
    "x0_dc = casadi.DM.zeros(nx + nx * K * (1 + nm) + nu * K)\n",
    "start_time = time.perf_counter()\n",
    "u_opt, x0_dc = compute_optimal_control_dc(S_dc, x_init, x0_dc)\n",
    "dc_time = time.perf_counter() - start_time\n",
    "\n",
    "x0 = casadi.DM.zeros(total)\n",
    "start_time = time.perf_counter()\n",
    "u_opt, x0 = compute_optimal_control(S, x_init, x0)\n",
    "dms_time = time.perf_counter() - start_time"
   ]
  },
  {
   "cell_type": "code",
   "execution_count": null,
   "metadata": {},
   "outputs": [
    {
     "name": "stdout",
     "output_type": "stream",
     "text": [
      "dc_time 0.0971097000874579\n",
      "dms_time 0.051013599964790046\n"
     ]
    }
   ],
   "source": [
    "print(\"dc_time\", dc_time)\n",
    "print(\"dms_time\", dms_time)"
   ]
  },
  {
   "cell_type": "code",
   "execution_count": null,
   "metadata": {},
   "outputs": [
    {
     "data": {
      "image/png": "[encoded data removed]",
      "text/plain": [
       "<Figure size 640x480 with 1 Axes>"
      ]
     },
     "metadata": {},
     "output_type": "display_data"
    }
   ],
   "source": [
    "timestamp = np.array(range(K)) * dt\n",
    "plt.plot(timestamp, x0[nx * (K + 1) :], linewidth=2, label=\"direct multiple-shooting\")\n",
    "plt.plot(\n",
    "    timestamp,\n",
    "    x0_dc[nx + nx * K * (1 + nm) :],\n",
    "    \"--\",\n",
    "    linewidth=2,\n",
    "    label=\"direct collocation\",\n",
    ")\n",
    "plt.xlabel(\"Time [s]\")\n",
    "plt.ylabel(\"Control Input [N]\")\n",
    "plt.legend()\n",
    "plt.savefig(\"images/chap6_collocation_control_trajectory.png\")"
   ]
  },
  {
   "cell_type": "code",
   "execution_count": null,
   "metadata": {},
   "outputs": [],
   "source": []
  }
 ],
 "metadata": {
  "kernelspec": {
   "display_name": "kawawaki",
   "language": "python",
   "name": "python3"
  },
  "language_info": {
   "codemirror_mode": {
    "name": "ipython",
    "version": 3
   },
   "file_extension": ".py",
   "mimetype": "text/x-python",
   "name": "python",
   "nbconvert_exporter": "python",
   "pygments_lexer": "ipython3",
   "version": "3.10.11"
  }
 },
 "nbformat": 4,
 "nbformat_minor": 4
}
